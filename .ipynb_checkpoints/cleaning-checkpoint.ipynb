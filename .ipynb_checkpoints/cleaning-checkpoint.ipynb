{
 "cells": [
  {
   "cell_type": "code",
   "execution_count": 1,
   "id": "96aaae36",
   "metadata": {},
   "outputs": [],
   "source": [
    "import pandas as pd\n",
    "import numpy as ny"
   ]
  },
  {
   "cell_type": "code",
   "execution_count": 3,
   "id": "8494fa9f",
   "metadata": {},
   "outputs": [],
   "source": [
    "an = pd.read_csv(\"C:/Users/super\\Documents/COD\\Github/Practice/resources/Anime.csv\")"
   ]
  },
  {
   "cell_type": "code",
   "execution_count": 4,
   "id": "1df3291d",
   "metadata": {},
   "outputs": [
    {
     "data": {
      "text/html": [
       "<div>\n",
       "<style scoped>\n",
       "    .dataframe tbody tr th:only-of-type {\n",
       "        vertical-align: middle;\n",
       "    }\n",
       "\n",
       "    .dataframe tbody tr th {\n",
       "        vertical-align: top;\n",
       "    }\n",
       "\n",
       "    .dataframe thead th {\n",
       "        text-align: right;\n",
       "    }\n",
       "</style>\n",
       "<table border=\"1\" class=\"dataframe\">\n",
       "  <thead>\n",
       "    <tr style=\"text-align: right;\">\n",
       "      <th></th>\n",
       "      <th>ID</th>\n",
       "      <th>Title</th>\n",
       "      <th>Synonyms</th>\n",
       "      <th>Japanese</th>\n",
       "      <th>English</th>\n",
       "      <th>Synopsis</th>\n",
       "      <th>Type</th>\n",
       "      <th>Episodes</th>\n",
       "      <th>Status</th>\n",
       "      <th>Start_Aired</th>\n",
       "      <th>...</th>\n",
       "      <th>Themes</th>\n",
       "      <th>Demographics</th>\n",
       "      <th>Duration_Minutes</th>\n",
       "      <th>Rating</th>\n",
       "      <th>Score</th>\n",
       "      <th>Scored_Users</th>\n",
       "      <th>Ranked</th>\n",
       "      <th>Popularity</th>\n",
       "      <th>Members</th>\n",
       "      <th>Favorites</th>\n",
       "    </tr>\n",
       "  </thead>\n",
       "  <tbody>\n",
       "    <tr>\n",
       "      <th>0</th>\n",
       "      <td>16498</td>\n",
       "      <td>Shingeki no Kyojin</td>\n",
       "      <td>AoT, SnK</td>\n",
       "      <td>進撃の巨人</td>\n",
       "      <td>Attack on Titan</td>\n",
       "      <td>Centuries ago, mankind was slaughtered to near...</td>\n",
       "      <td>TV</td>\n",
       "      <td>25.0</td>\n",
       "      <td>Finished Airing</td>\n",
       "      <td>Apr 7, 2013</td>\n",
       "      <td>...</td>\n",
       "      <td>Gore, Military, Survival</td>\n",
       "      <td>Shounen</td>\n",
       "      <td>24.0</td>\n",
       "      <td>R - 17+ (violence &amp; profanity)</td>\n",
       "      <td>8.531</td>\n",
       "      <td>519803.0</td>\n",
       "      <td>1002.0</td>\n",
       "      <td>1</td>\n",
       "      <td>3524109</td>\n",
       "      <td>155695</td>\n",
       "    </tr>\n",
       "    <tr>\n",
       "      <th>1</th>\n",
       "      <td>1535</td>\n",
       "      <td>Death Note</td>\n",
       "      <td>DN</td>\n",
       "      <td>デスノート</td>\n",
       "      <td>Death Note</td>\n",
       "      <td>Brutal murders, petty thefts, and senseless vi...</td>\n",
       "      <td>TV</td>\n",
       "      <td>37.0</td>\n",
       "      <td>Finished Airing</td>\n",
       "      <td>Oct 4, 2006</td>\n",
       "      <td>...</td>\n",
       "      <td>Psychological</td>\n",
       "      <td>Shounen</td>\n",
       "      <td>23.0</td>\n",
       "      <td>R - 17+ (violence &amp; profanity)</td>\n",
       "      <td>8.621</td>\n",
       "      <td>485487.0</td>\n",
       "      <td>732.0</td>\n",
       "      <td>2</td>\n",
       "      <td>3504535</td>\n",
       "      <td>159701</td>\n",
       "    </tr>\n",
       "    <tr>\n",
       "      <th>2</th>\n",
       "      <td>5114</td>\n",
       "      <td>Fullmetal Alchemist: Brotherhood</td>\n",
       "      <td>Hagane no Renkinjutsushi Fullmetal Alchemist, ...</td>\n",
       "      <td>鋼の錬金術師 FULLMETAL ALCHEMIST</td>\n",
       "      <td>Fullmetal Alchemist Brotherhood</td>\n",
       "      <td>After a horrific alchemy experiment goes wrong...</td>\n",
       "      <td>TV</td>\n",
       "      <td>64.0</td>\n",
       "      <td>Finished Airing</td>\n",
       "      <td>Apr 5, 2009</td>\n",
       "      <td>...</td>\n",
       "      <td>Military</td>\n",
       "      <td>Shounen</td>\n",
       "      <td>24.0</td>\n",
       "      <td>R - 17+ (violence &amp; profanity)</td>\n",
       "      <td>9.131</td>\n",
       "      <td>900398.0</td>\n",
       "      <td>12.0</td>\n",
       "      <td>3</td>\n",
       "      <td>2978455</td>\n",
       "      <td>207772</td>\n",
       "    </tr>\n",
       "    <tr>\n",
       "      <th>3</th>\n",
       "      <td>30276</td>\n",
       "      <td>One Punch Man</td>\n",
       "      <td>One Punch-Man, One-Punch Man, OPM</td>\n",
       "      <td>ワンパンマン</td>\n",
       "      <td>One Punch Man</td>\n",
       "      <td>The seemingly unimpressive Saitama has a rathe...</td>\n",
       "      <td>TV</td>\n",
       "      <td>12.0</td>\n",
       "      <td>Finished Airing</td>\n",
       "      <td>Oct 5, 2015</td>\n",
       "      <td>...</td>\n",
       "      <td>Parody, Super Power</td>\n",
       "      <td>Seinen</td>\n",
       "      <td>24.0</td>\n",
       "      <td>R - 17+ (violence &amp; profanity)</td>\n",
       "      <td>8.511</td>\n",
       "      <td>19066.0</td>\n",
       "      <td>1112.0</td>\n",
       "      <td>4</td>\n",
       "      <td>2879907</td>\n",
       "      <td>59651</td>\n",
       "    </tr>\n",
       "    <tr>\n",
       "      <th>4</th>\n",
       "      <td>11757</td>\n",
       "      <td>Sword Art Online</td>\n",
       "      <td>S.A.O, SAO</td>\n",
       "      <td>ソードアート・オンライン</td>\n",
       "      <td>Sword Art Online</td>\n",
       "      <td>Ever since the release of the innovative Nerve...</td>\n",
       "      <td>TV</td>\n",
       "      <td>25.0</td>\n",
       "      <td>Finished Airing</td>\n",
       "      <td>Jul 8, 2012</td>\n",
       "      <td>...</td>\n",
       "      <td>Love Polygon, Video Game</td>\n",
       "      <td>Unknown</td>\n",
       "      <td>23.0</td>\n",
       "      <td>PG-13 - Teens 13 or older</td>\n",
       "      <td>7.201</td>\n",
       "      <td>990254.0</td>\n",
       "      <td>29562.0</td>\n",
       "      <td>5</td>\n",
       "      <td>2813565</td>\n",
       "      <td>64997</td>\n",
       "    </tr>\n",
       "  </tbody>\n",
       "</table>\n",
       "<p>5 rows × 28 columns</p>\n",
       "</div>"
      ],
      "text/plain": [
       "      ID                             Title  \\\n",
       "0  16498                Shingeki no Kyojin   \n",
       "1   1535                        Death Note   \n",
       "2   5114  Fullmetal Alchemist: Brotherhood   \n",
       "3  30276                     One Punch Man   \n",
       "4  11757                  Sword Art Online   \n",
       "\n",
       "                                            Synonyms  \\\n",
       "0                                           AoT, SnK   \n",
       "1                                                 DN   \n",
       "2  Hagane no Renkinjutsushi Fullmetal Alchemist, ...   \n",
       "3                  One Punch-Man, One-Punch Man, OPM   \n",
       "4                                         S.A.O, SAO   \n",
       "\n",
       "                     Japanese                          English  \\\n",
       "0                       進撃の巨人                  Attack on Titan   \n",
       "1                       デスノート                       Death Note   \n",
       "2  鋼の錬金術師 FULLMETAL ALCHEMIST  Fullmetal Alchemist Brotherhood   \n",
       "3                      ワンパンマン                    One Punch Man   \n",
       "4                ソードアート・オンライン                 Sword Art Online   \n",
       "\n",
       "                                            Synopsis Type  Episodes  \\\n",
       "0  Centuries ago, mankind was slaughtered to near...   TV      25.0   \n",
       "1  Brutal murders, petty thefts, and senseless vi...   TV      37.0   \n",
       "2  After a horrific alchemy experiment goes wrong...   TV      64.0   \n",
       "3  The seemingly unimpressive Saitama has a rathe...   TV      12.0   \n",
       "4  Ever since the release of the innovative Nerve...   TV      25.0   \n",
       "\n",
       "            Status  Start_Aired  ...                    Themes Demographics  \\\n",
       "0  Finished Airing  Apr 7, 2013  ...  Gore, Military, Survival      Shounen   \n",
       "1  Finished Airing  Oct 4, 2006  ...             Psychological      Shounen   \n",
       "2  Finished Airing  Apr 5, 2009  ...                  Military      Shounen   \n",
       "3  Finished Airing  Oct 5, 2015  ...       Parody, Super Power       Seinen   \n",
       "4  Finished Airing  Jul 8, 2012  ...  Love Polygon, Video Game      Unknown   \n",
       "\n",
       "  Duration_Minutes                          Rating  Score Scored_Users  \\\n",
       "0             24.0  R - 17+ (violence & profanity)  8.531     519803.0   \n",
       "1             23.0  R - 17+ (violence & profanity)  8.621     485487.0   \n",
       "2             24.0  R - 17+ (violence & profanity)  9.131     900398.0   \n",
       "3             24.0  R - 17+ (violence & profanity)  8.511      19066.0   \n",
       "4             23.0       PG-13 - Teens 13 or older  7.201     990254.0   \n",
       "\n",
       "    Ranked Popularity  Members Favorites  \n",
       "0   1002.0          1  3524109    155695  \n",
       "1    732.0          2  3504535    159701  \n",
       "2     12.0          3  2978455    207772  \n",
       "3   1112.0          4  2879907     59651  \n",
       "4  29562.0          5  2813565     64997  \n",
       "\n",
       "[5 rows x 28 columns]"
      ]
     },
     "execution_count": 4,
     "metadata": {},
     "output_type": "execute_result"
    }
   ],
   "source": [
    "an.head()"
   ]
  },
  {
   "cell_type": "code",
   "execution_count": 11,
   "id": "e31577f0",
   "metadata": {},
   "outputs": [
    {
     "data": {
      "text/plain": [
       "ID                    int64\n",
       "Title                object\n",
       "Synonyms             object\n",
       "Japanese             object\n",
       "English              object\n",
       "Synopsis             object\n",
       "Type                 object\n",
       "Episodes            float64\n",
       "Status               object\n",
       "Start_Aired          object\n",
       "End_Aired            object\n",
       "Premiered            object\n",
       "Broadcast            object\n",
       "Producers            object\n",
       "Licensors            object\n",
       "Studios              object\n",
       "Source               object\n",
       "Genres               object\n",
       "Themes               object\n",
       "Demographics         object\n",
       "Duration_Minutes    float64\n",
       "Rating               object\n",
       "Score               float64\n",
       "Scored_Users        float64\n",
       "Ranked              float64\n",
       "Popularity            int64\n",
       "Members               int64\n",
       "Favorites             int64\n",
       "dtype: object"
      ]
     },
     "execution_count": 11,
     "metadata": {},
     "output_type": "execute_result"
    }
   ],
   "source": [
    "an.dtypes"
   ]
  },
  {
   "cell_type": "code",
   "execution_count": 18,
   "id": "fb430117",
   "metadata": {},
   "outputs": [
    {
     "data": {
      "text/plain": [
       "Index(['ID', 'Title', 'Synonyms', 'Japanese', 'English', 'Synopsis', 'Type',\n",
       "       'Episodes', 'Status', 'Start_Aired', 'End_Aired', 'Premiered',\n",
       "       'Broadcast', 'Producers', 'Licensors', 'Studios', 'Source', 'Genres',\n",
       "       'Themes', 'Demographics', 'Duration_Minutes', 'Rating', 'Score',\n",
       "       'Scored_Users', 'Ranked', 'Popularity', 'Members', 'Favorites'],\n",
       "      dtype='object')"
      ]
     },
     "execution_count": 18,
     "metadata": {},
     "output_type": "execute_result"
    }
   ],
   "source": [
    "an.columns"
   ]
  },
  {
   "cell_type": "code",
   "execution_count": 19,
   "id": "02f68d2c",
   "metadata": {},
   "outputs": [
    {
     "data": {
      "text/plain": [
       "array(['Shounen', 'Seinen', 'Unknown', 'Shoujo', 'Kids', 'Josei',\n",
       "       'Kids, Shounen', 'Josei, Shoujo', 'Kids, Seinen', 'Kids, Shoujo'],\n",
       "      dtype=object)"
      ]
     },
     "execution_count": 19,
     "metadata": {},
     "output_type": "execute_result"
    }
   ],
   "source": [
    "an['Demographics'].unique()"
   ]
  },
  {
   "cell_type": "code",
   "execution_count": 34,
   "id": "a32c3182",
   "metadata": {},
   "outputs": [
    {
     "data": {
      "text/plain": [
       "array(['Finished Airing', 'Currently Airing', 'Not yet aired'],\n",
       "      dtype=object)"
      ]
     },
     "execution_count": 34,
     "metadata": {},
     "output_type": "execute_result"
    }
   ],
   "source": [
    "an['Status'].unique()"
   ]
  },
  {
   "cell_type": "code",
   "execution_count": 39,
   "id": "e90cf6ee",
   "metadata": {},
   "outputs": [],
   "source": [
    "an2 = an.drop(columns=['Japanese', 'Members', 'Synopsis', 'Synonyms', 'Broadcast', 'Producers'])"
   ]
  },
  {
   "cell_type": "code",
   "execution_count": 48,
   "id": "50fdb2e8",
   "metadata": {},
   "outputs": [
    {
     "ename": "AttributeError",
     "evalue": "'NoneType' object has no attribute 'set_option'",
     "output_type": "error",
     "traceback": [
      "\u001b[1;31m---------------------------------------------------------------------------\u001b[0m",
      "\u001b[1;31mAttributeError\u001b[0m                            Traceback (most recent call last)",
      "\u001b[1;32m<ipython-input-48-222ea539074c>\u001b[0m in \u001b[0;36m<module>\u001b[1;34m\u001b[0m\n\u001b[1;32m----> 1\u001b[1;33m \u001b[0man2\u001b[0m \u001b[1;33m=\u001b[0m \u001b[0man2\u001b[0m\u001b[1;33m.\u001b[0m\u001b[0mset_option\u001b[0m\u001b[1;33m(\u001b[0m\u001b[1;34m'max_columns'\u001b[0m\u001b[1;33m,\u001b[0m \u001b[1;32mNone\u001b[0m\u001b[1;33m)\u001b[0m\u001b[1;33m\u001b[0m\u001b[1;33m\u001b[0m\u001b[0m\n\u001b[0m\u001b[0;32m      2\u001b[0m \u001b[0man2\u001b[0m\u001b[1;33m.\u001b[0m\u001b[0mhead\u001b[0m\u001b[1;33m(\u001b[0m\u001b[1;33m)\u001b[0m\u001b[1;33m\u001b[0m\u001b[1;33m\u001b[0m\u001b[0m\n",
      "\u001b[1;31mAttributeError\u001b[0m: 'NoneType' object has no attribute 'set_option'"
     ]
    }
   ],
   "source": []
  },
  {
   "cell_type": "code",
   "execution_count": null,
   "id": "48be97c1",
   "metadata": {},
   "outputs": [],
   "source": []
  }
 ],
 "metadata": {
  "kernelspec": {
   "display_name": "PythonData",
   "language": "python",
   "name": "pythondata"
  },
  "language_info": {
   "codemirror_mode": {
    "name": "ipython",
    "version": 3
   },
   "file_extension": ".py",
   "mimetype": "text/x-python",
   "name": "python",
   "nbconvert_exporter": "python",
   "pygments_lexer": "ipython3",
   "version": "3.8.8"
  }
 },
 "nbformat": 4,
 "nbformat_minor": 5
}
